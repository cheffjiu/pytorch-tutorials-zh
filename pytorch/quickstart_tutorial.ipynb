{
  "cells": [
    {
      "cell_type": "markdown",
      "metadata": {
        "id": "view-in-github",
        "colab_type": "text"
      },
      "source": [
        "<a href=\"https://colab.research.google.com/github/cheffjiu/pytorch-tutorials-zh/blob/main/quickstart_tutorial.ipynb\" target=\"_parent\"><img src=\"https://colab.research.google.com/assets/colab-badge.svg\" alt=\"Open In Colab\"/></a>"
      ]
    },
    {
      "cell_type": "code",
      "execution_count": null,
      "metadata": {
        "id": "23lWfEVWxbG3"
      },
      "outputs": [],
      "source": [
        "# For tips on running notebooks in Google Colab, see\n",
        "# https://pytorch.org/tutorials/beginner/colab\n",
        "%matplotlib inline"
      ]
    },
    {
      "cell_type": "markdown",
      "metadata": {
        "id": "lTwf-WRSxbG4"
      },
      "source": [
        "[Learn the Basics](https://github.com/cheffjiu/pytorch-tutorials-zh/blob/main/intro.ipynb) \\|\\| **Quickstart** \\|\\|\n",
        "[Tensors](https://github.com/cheffjiu/pytorch-tutorials-zh/blob/main/tensorqs_tutorial.ipynb) \\|\\| [Datasets &\n",
        "DataLoaders](https://github.com/cheffjiu/pytorch-tutorials-zh/blob/main/data_tutorial.ipynb) \\|\\|\n",
        "[Transforms](https://github.com/cheffjiu/pytorch-tutorials-zh/blob/main/transforms_tutorial.ipynb) \\|\\| [Build\n",
        "Model](https://github.com/cheffjiu/pytorch-tutorials-zh/blob/main/buildmodel_tutorial.ipynb) \\|\\|\n",
        "[Autograd](https://github.com/cheffjiu/pytorch-tutorials-zh/blob/main/autogradqs_tutorial.ipynb) \\|\\|\n",
        "[Optimization](https://github.com/cheffjiu/pytorch-tutorials-zh/blob/main/optimization_tutorial.ipynb) \\|\\| [Save & Load\n",
        "Model](https://github.com/cheffjiu/pytorch-tutorials-zh/blob/main/saveloadrun_tutorial.ipynb)\n",
        "\n",
        "Quickstart\n",
        "==========\n",
        "\n",
        "本节介绍了机器学习中常见任务的API。\n",
        "请参考每个部分中的链接以深入了解。\n",
        "\n",
        "Working with data（处理数据）\n",
        "-----------------\n",
        "\n",
        "PyTorch有两个[用于处理数据的基本类](https://pytorch.org/docs/stable/data.html)：`torch.utils.data.DataLoader`和`torch.utils.data.Dataset`。`Dataset`存储样本及其相应的标签，而`DataLoader`则把`Dataset`包装了一个可迭代对象。"
      ]
    },
    {
      "cell_type": "code",
      "execution_count": null,
      "metadata": {
        "id": "a4hu0wcpxbG5"
      },
      "outputs": [],
      "source": [
        "import torch\n",
        "from torch import nn\n",
        "from torch.utils.data import DataLoader\n",
        "from torchvision import datasets\n",
        "from torchvision.transforms import ToTensor"
      ]
    },
    {
      "cell_type": "markdown",
      "metadata": {
        "id": "5Ns6nw2LxbG5"
      },
      "source": [
        "PyTorch提供特定领域的库，例如\n",
        "[TorchText](https://pytorch.org/text/stable/index.html),\n",
        "[TorchVision](https://pytorch.org/vision/stable/index.html), and\n",
        "[TorchAudio](https://pytorch.org/audio/stable/index.html), 所有这些都包含数据集。在本教程中，我们将使用一个TorchVision数据集。\n",
        "\n",
        "`torchvision.datasets`模块包含许多现实世界视觉数据的`Dataset`对象，如CIFAR、COCO（[完整列表在此](https://pytorch.org/vision/stable/datasets.html)）。在本教程中，我们使用FashionMNIST数据集。每个TorchVision `Dataset`都包含两个参数：`transform`和`target_transform`，分别用于修改样本和标签。   \n",
        "\n",
        "代码如下："
      ]
    },
    {
      "cell_type": "code",
      "execution_count": null,
      "metadata": {
        "id": "Am7Jei3gxbG5"
      },
      "outputs": [],
      "source": [
        "# Download training data from open datasets.\n",
        "training_data = datasets.FashionMNIST(\n",
        "    root=\"data\",\n",
        "    train=True,\n",
        "    download=True,\n",
        "    transform=ToTensor(),#把样本数据变换成pytorch的张量\n",
        ")\n",
        "\n",
        "# Download test data from open datasets.\n",
        "test_data = datasets.FashionMNIST(\n",
        "    root=\"data\",\n",
        "    train=False,\n",
        "    download=True,\n",
        "    transform=ToTensor(),\n",
        ")"
      ]
    },
    {
      "cell_type": "markdown",
      "metadata": {
        "id": "S3ItTulXxbG5"
      },
      "source": [
        "我们将`Dataset`作为参数传递给`DataLoader`。`DataLoader`会把`Dataset`包装一个可迭代的数据集，并支持自动批处理、采样、打乱和多进程数据加载。在这里，我们定义批大小为64，即数据加载器可迭代对象中的每个元素将返回包含64个特征和标签的一批数据。      \n",
        "代码如下：\n"
      ]
    },
    {
      "cell_type": "code",
      "execution_count": null,
      "metadata": {
        "id": "D1jIHaosxbG5"
      },
      "outputs": [],
      "source": [
        "batch_size = 64\n",
        "\n",
        "# Create data loaders.\n",
        "train_dataloader = DataLoader(training_data, batch_size=batch_size)\n",
        "test_dataloader = DataLoader(test_data, batch_size=batch_size)\n",
        "\n",
        "#X获取测试数据的特征，y获取标签。\n",
        "for X, y in test_dataloader:\n",
        "    #Fasion-minist数据集的图片都是单通道，高28，宽28，\n",
        "    #N为test_dataloader采样的图片批量-——batch-size\n",
        "    print(f\"Shape of X [N, C, H, W]: {X.shape}\")\n",
        "\n",
        "    #每个图片有一个label，batch-size为64\n",
        "    print(f\"Shape of y: {y.shape} {y.dtype}\")\n",
        "    break"
      ]
    },
    {
      "cell_type": "markdown",
      "metadata": {
        "id": "ZFd4chtxxbG6"
      },
      "source": [
        "从 [loading data in PyTorch](data_tutorial.html)阅读更多相关内容。\n"
      ]
    },
    {
      "cell_type": "markdown",
      "metadata": {
        "id": "HGrWBNUIxbG6"
      },
      "source": [
        "------------------------------------------------------------------------\n"
      ]
    },
    {
      "cell_type": "markdown",
      "metadata": {
        "id": "9lrnFDQ5xbG6"
      },
      "source": [
        "Creating Models（构建模型）\n",
        "===============\n",
        "\n",
        "在PyTorch中定义神经网络模型时，我们需要创建一个继承自[nn.Module](https://pytorch.org/docs/stable/generated/torch.nn.Module.html)的类。\n",
        "并且在 `__init__` 函数中定义模型的各层，并在 `forward` 函数中指定数据将如何在模型中传递。为了加速神经网络中的运算，我们将其移动到[加速器](https://pytorch.org/docs/stable/torch.html#accelerators)，如CUDA、MPS、MTIA或XPU上。如果当前的加速器可用，我们就会使用它。否则，我们就使用CPU。    \n",
        "代码如下："
      ]
    },
    {
      "cell_type": "code",
      "execution_count": null,
      "metadata": {
        "id": "lMi-PYfvxbG6"
      },
      "outputs": [],
      "source": [
        "device = torch.accelerator.current_accelerator().type if torch.accelerator.is_available() else \"cpu\"\n",
        "print(f\"Using {device} device\")\n",
        "\n",
        "# Define model\n",
        "class NeuralNetwork(nn.Module):\n",
        "    def __init__(self):\n",
        "        super().__init__()\n",
        "        self.flatten = nn.Flatten()#X [N, C, H, W]->[N,C*H*W]\n",
        "        self.linear_relu_stack = nn.Sequential(\n",
        "            nn.Linear(1*28*28, 512),\n",
        "            nn.ReLU(),\n",
        "            nn.Linear(512, 512),\n",
        "            nn.ReLU(),\n",
        "            nn.Linear(512, 10) #把每张图片从512维空间映射到10维空间，Fusion-minist的类别为10类\n",
        "        )\n",
        "\n",
        "    def forward(self, x):\n",
        "        x = self.flatten(x)\n",
        "        logits = self.linear_relu_stack(x)\n",
        "        return logits\n",
        "\n",
        "model = NeuralNetwork().to(device) #实例化一个模型，并把模型移动到加速设备上\n",
        "print(model)"
      ]
    },
    {
      "cell_type": "markdown",
      "metadata": {
        "id": "fPheJudjxbG6"
      },
      "source": [
        "从 [building neural networks in\n",
        "PyTorch](buildmodel_tutorial.html)阅读更多信息\n"
      ]
    },
    {
      "cell_type": "markdown",
      "metadata": {
        "id": "sjn0XfyOxbG7"
      },
      "source": [
        "------------------------------------------------------------------------\n"
      ]
    },
    {
      "cell_type": "markdown",
      "metadata": {
        "id": "SX1LvWKTxbG7"
      },
      "source": [
        "Optimizing the Model Parameters（优化模型）\n",
        "===============================\n",
        "为了训练模型，我们需要 [loss\n",
        "function](https://pytorch.org/docs/stable/nn.html#loss-functions) and an\n",
        "[optimizer](https://pytorch.org/docs/stable/optim.html).\n"
      ]
    },
    {
      "cell_type": "code",
      "execution_count": null,
      "metadata": {
        "id": "98OZEvEcxbG7"
      },
      "outputs": [],
      "source": [
        "loss_fn = nn.CrossEntropyLoss()\n",
        "optimizer = torch.optim.SGD(model.parameters(), lr=1e-3)"
      ]
    },
    {
      "cell_type": "markdown",
      "metadata": {
        "id": "nrkH_qB5xbG7"
      },
      "source": [
        "在单个训练循环中，模型对训练数据集（以批次形式输入）进行预测，并反向传播预测误差以调整模型的参数。\n"
      ]
    },
    {
      "cell_type": "code",
      "execution_count": null,
      "metadata": {
        "id": "RMYKif4zxbG7"
      },
      "outputs": [],
      "source": [
        "def train(dataloader, model, loss_fn, optimizer):\n",
        "    size = len(dataloader.dataset)\n",
        "    model.train()\n",
        "    for batch, (X, y) in enumerate(dataloader):\n",
        "        X, y = X.to(device), y.to(device)\n",
        "\n",
        "        # Compute prediction error\n",
        "        pred = model(X)\n",
        "        loss = loss_fn(pred, y)\n",
        "\n",
        "        # Backpropagation\n",
        "        loss.backward()\n",
        "        optimizer.step()\n",
        "        optimizer.zero_grad()\n",
        "\n",
        "        if batch % 100 == 0:\n",
        "            loss, current = loss.item(), (batch + 1) * len(X)\n",
        "            print(f\"loss: {loss:>7f}  [{current:>5d}/{size:>5d}]\")"
      ]
    },
    {
      "cell_type": "markdown",
      "metadata": {
        "id": "tWieoJDWxbG7"
      },
      "source": [
        "我们还会根据测试数据集来检查模型的性能，以确保它在学习。"
      ]
    },
    {
      "cell_type": "code",
      "execution_count": null,
      "metadata": {
        "id": "VH1pT-eixbG7"
      },
      "outputs": [],
      "source": [
        "def test(dataloader, model, loss_fn):\n",
        "    size = len(dataloader.dataset)\n",
        "    num_batches = len(dataloader)\n",
        "    model.eval()\n",
        "    test_loss, correct = 0, 0\n",
        "    with torch.no_grad():\n",
        "        for X, y in dataloader:\n",
        "            X, y = X.to(device), y.to(device)\n",
        "            pred = model(X)\n",
        "            test_loss += loss_fn(pred, y).item()\n",
        "            correct += (pred.argmax(1) == y).type(torch.float).sum().item()\n",
        "    test_loss /= num_batches\n",
        "    correct /= size\n",
        "    print(f\"Test Error: \\n Accuracy: {(100*correct):>0.1f}%, Avg loss: {test_loss:>8f} \\n\")"
      ]
    },
    {
      "cell_type": "markdown",
      "metadata": {
        "id": "PupOqFW1xbG8"
      },
      "source": [
        "训练过程会进行多次迭代（*epoch*）。在每一轮次中，模型学习参数以做出更好的预测。我们会打印每一轮次中模型的准确率和损失值；我们希望看到每一轮次中准确率上升，损失值下降。"
      ]
    },
    {
      "cell_type": "code",
      "execution_count": null,
      "metadata": {
        "id": "LxVzeHLqxbG8"
      },
      "outputs": [],
      "source": [
        "epochs = 5\n",
        "for t in range(epochs):\n",
        "    print(f\"Epoch {t+1}\\n-------------------------------\")\n",
        "    train(train_dataloader, model, loss_fn, optimizer)\n",
        "    test(test_dataloader, model, loss_fn)\n",
        "print(\"Done!\")"
      ]
    },
    {
      "cell_type": "markdown",
      "metadata": {
        "id": "W0dkFKHQxbG8"
      },
      "source": [
        "从 [Training your model](optimization_tutorial.html)阅读更多内容\n"
      ]
    },
    {
      "cell_type": "markdown",
      "metadata": {
        "id": "R_5Gpb4bxbG8"
      },
      "source": [
        "------------------------------------------------------------------------\n"
      ]
    },
    {
      "cell_type": "markdown",
      "metadata": {
        "id": "9uX-PQGExbG8"
      },
      "source": [
        "Saving Models（保存模型）\n",
        "=============\n",
        "\n",
        "保存模型的一种常见方法是序列化内部状态字典（其中包含模型参数）。\n"
      ]
    },
    {
      "cell_type": "code",
      "execution_count": null,
      "metadata": {
        "id": "gYylNz3txbG8"
      },
      "outputs": [],
      "source": [
        "torch.save(model.state_dict(), \"model.pth\")#model.pth为存储模型参数的位置\n",
        "print(\"Saved PyTorch Model State to model.pth\")"
      ]
    },
    {
      "cell_type": "markdown",
      "metadata": {
        "id": "C3bov936xbG8"
      },
      "source": [
        "Loading Models（加载模型）\n",
        "==============\n",
        "\n",
        "加载模型的过程包括重新创建模型结构，并将状态字典加载到其中。"
      ]
    },
    {
      "cell_type": "code",
      "execution_count": null,
      "metadata": {
        "id": "kV3EbFaTxbG8"
      },
      "outputs": [],
      "source": [
        "model = NeuralNetwork().to(device)#实例化模型\n",
        "model.load_state_dict(torch.load(\"model.pth\", weights_only=True))#从model.pth加载训练好的模型参数"
      ]
    },
    {
      "cell_type": "markdown",
      "metadata": {
        "id": "ACYV5BjXxbG8"
      },
      "source": [
        "这个模型现在可用于进行预测。\n"
      ]
    },
    {
      "cell_type": "code",
      "execution_count": null,
      "metadata": {
        "id": "mhDgGRfuxbG8"
      },
      "outputs": [],
      "source": [
        "classes = [\n",
        "    \"T-shirt/top\",\n",
        "    \"Trouser\",\n",
        "    \"Pullover\",\n",
        "    \"Dress\",\n",
        "    \"Coat\",\n",
        "    \"Sandal\",\n",
        "    \"Shirt\",\n",
        "    \"Sneaker\",\n",
        "    \"Bag\",\n",
        "    \"Ankle boot\",\n",
        "]\n",
        "\n",
        "model.eval()\n",
        "x, y = test_data[0][0], test_data[0][1]\n",
        "with torch.no_grad():\n",
        "    x = x.to(device)\n",
        "    pred = model(x)\n",
        "    predicted, actual = classes[pred[0].argmax(0)], classes[y]#x [N, C, H, W],虽然N=1，但是也是要考虑这个维度，故pred[0]\n",
        "    print(f'Predicted: \"{predicted}\", Actual: \"{actual}\"')"
      ]
    },
    {
      "cell_type": "markdown",
      "metadata": {
        "id": "Pfniz5VWxbG8"
      },
      "source": [
        "从[Saving & Loading your\n",
        "model](saveloadrun_tutorial.html)阅读更多相关内容\n"
      ]
    }
  ],
  "metadata": {
    "kernelspec": {
      "display_name": "Python 3",
      "name": "python3"
    },
    "language_info": {
      "codemirror_mode": {
        "name": "ipython",
        "version": 3
      },
      "file_extension": ".py",
      "mimetype": "text/x-python",
      "name": "python",
      "nbconvert_exporter": "python",
      "pygments_lexer": "ipython3",
      "version": "3.10.12"
    },
    "colab": {
      "provenance": [],
      "include_colab_link": true
    }
  },
  "nbformat": 4,
  "nbformat_minor": 0
}