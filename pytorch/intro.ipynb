{
  "cells": [
    {
      "cell_type": "markdown",
      "metadata": {
        "id": "view-in-github",
        "colab_type": "text"
      },
      "source": [
        "<a href=\"https://colab.research.google.com/github/cheffjiu/pytorch-tutorials-zh/blob/main/intro.ipynb\" target=\"_parent\"><img src=\"https://colab.research.google.com/assets/colab-badge.svg\" alt=\"Open In Colab\"/></a>"
      ]
    },
    {
      "cell_type": "code",
      "execution_count": null,
      "metadata": {
        "id": "DQnLnUTCl8vJ"
      },
      "outputs": [],
      "source": [
        "# For tips on running notebooks in Google Colab, see\n",
        "# https://pytorch.org/tutorials/beginner/colab\n",
        "%matplotlib inline"
      ]
    },
    {
      "cell_type": "markdown",
      "metadata": {
        "id": "KUOwDqsul8vK"
      },
      "source": [
        "**Learn the Basics** \\|\\| [Quickstart](https://github.com/cheffjiu/pytorch-tutorials-zh/blob/main/quickstart_tutorial.ipynb) \\|\\|\n",
        "[Tensors](https://github.com/cheffjiu/pytorch-tutorials-zh/blob/main/tensorqs_tutorial.ipynb) \\|\\| [Datasets &\n",
        "DataLoaders](https://github.com/cheffjiu/pytorch-tutorials-zh/blob/main/data_tutorial.ipynb) \\|\\|\n",
        "[Transforms](https://github.com/cheffjiu/pytorch-tutorials-zh/blob/main/transforms_tutorial.ipynb) \\|\\| [Build\n",
        "Model](https://github.com/cheffjiu/pytorch-tutorials-zh/blob/main/buildmodel_tutorial.ipynb) \\|\\|\n",
        "[Autograd](https://github.com/cheffjiu/pytorch-tutorials-zh/blob/main/autogradqs_tutorial.ipynb) \\|\\|\n",
        "[Optimization](https://github.com/cheffjiu/pytorch-tutorials-zh/blob/main/optimization_tutorial.ipynb) \\|\\| [Save & Load\n",
        "Model](https://github.com/cheffjiu/pytorch-tutorials-zh/blob/main/saveloadrun_tutorial.ipynb)\n",
        "\n",
        "Learn the Basics\n",
        "================\n",
        "\n",
        "Authors: [Suraj Subramanian](https://github.com/subramen), [Seth\n",
        "Juarez](https://github.com/sethjuarez/), [Cassie\n",
        "Breviu](https://github.com/cassiebreviu/), [Dmitry\n",
        "Soshnikov](https://soshnikov.com/), [Ari\n",
        "Bornstein](https://github.com/aribornstein/)\n",
        "\n",
        "大多数机器学习工作流程都涉及数据处理、创建模型、优化模型参数以及保存训练好的模型。本教程将向你介绍在PyTorch中实现的完整机器学习工作流程，并提供相关链接，以便你进一步了解这些概念。\n",
        "\n",
        "我们将使用FashionMNIST数据集来训练一个神经网络，该网络可预测输入图像是否属于以下类别之一：T恤/上衣、裤子、套头衫、连衣裙、外套、凉鞋、衬衫、运动鞋、包或短靴。\n",
        "\n",
        "[本教程假定你对Python和深度学习概念有基本的了解。]\n",
        "\n",
        "Running the Tutorial Code\n",
        "-------------------------\n",
        "\n",
        "你可以通过几种方式运行本教程:\n",
        "\n",
        "-   **云端方式**: 这是最简单的方式! 每一节都有\\\"Run in Microsoft Learn\\\" and \\\"Run\n",
        "    in Google Colab\\\", 它会分别在微软学习平台或谷歌Colab中打开一个集成笔记本，代码运行在一个完全托管（full-hosted）的环境中。\n",
        "-   **本地方式**: 此选项要求你首先在本地机器上设置PyTorch和TorchVision ([点击安装指令](https://pytorch.org/get-started/locally/)). 下载该笔记本，或将代码复制到你最喜欢的集成开发环境（IDE）中。\n",
        "\n",
        "How to Use this Guide\n",
        "---------------------\n",
        "\n",
        "如果你熟悉其他深度学习框架，请先查看：[0.Quickstart](https://github.com/cheffjiu/pytorch-tutorials/blob/main/quickstart_tutorial.ipynb)，快速熟悉PyTorch的API。\n",
        "\n",
        "如果你刚开始接触深度学习框架，直接进入我们循序渐进指南的第一部分：[1. Tensors](tensor_tutorial.html).\n",
        "\n",
        "\n",
        "\n"
      ]
    }
  ],
  "metadata": {
    "kernelspec": {
      "display_name": "Python 3",
      "language": "python",
      "name": "python3"
    },
    "language_info": {
      "codemirror_mode": {
        "name": "ipython",
        "version": 3
      },
      "file_extension": ".py",
      "mimetype": "text/x-python",
      "name": "python",
      "nbconvert_exporter": "python",
      "pygments_lexer": "ipython3",
      "version": "3.10.12"
    },
    "colab": {
      "provenance": [],
      "include_colab_link": true
    }
  },
  "nbformat": 4,
  "nbformat_minor": 0
}