{
  "cells": [
    {
      "cell_type": "markdown",
      "metadata": {
        "id": "view-in-github",
        "colab_type": "text"
      },
      "source": [
        "<a href=\"https://colab.research.google.com/github/cheffjiu/pytorch-tutorials-zh/blob/main/optimization_tutorial.ipynb\" target=\"_parent\"><img src=\"https://colab.research.google.com/assets/colab-badge.svg\" alt=\"Open In Colab\"/></a>"
      ]
    },
    {
      "cell_type": "code",
      "execution_count": null,
      "metadata": {
        "id": "pNxzIL-_50ly"
      },
      "outputs": [],
      "source": [
        "# For tips on running notebooks in Google Colab, see\n",
        "# https://pytorch.org/tutorials/beginner/colab\n",
        "%matplotlib inline"
      ]
    },
    {
      "cell_type": "markdown",
      "metadata": {
        "id": "g3cl7jda50lz"
      },
      "source": [
        "[Learn the Basics](https://github.com/cheffjiu/pytorch-tutorials-zh/blob/main/intro.ipynb) \\|\\|\n",
        "[Quickstart](https://github.com/cheffjiu/pytorch-tutorials-zh/blob/main/quickstart_tutorial.ipynb) \\|\\|\n",
        "[Tensors](https://github.com/cheffjiu/pytorch-tutorials-zh/blob/main/tensorqs_tutorial.ipynb) \\|\\| [Datasets &\n",
        "DataLoaders](https://github.com/cheffjiu/pytorch-tutorials-zh/blob/main/data_tutorial.ipynb) \\|\\|\n",
        "[Transforms](https://github.com/cheffjiu/pytorch-tutorials-zh/blob/main/transforms_tutorial.ipynb) \\|\\| [Build\n",
        "Model](https://github.com/cheffjiu/pytorch-tutorials-zh/blob/main/buildmodel_tutorial.ipynb) \\|\\|\n",
        "[Autograd](https://github.com/cheffjiu/pytorch-tutorials-zh/blob/main/autogradqs_tutorial.ipynb) \\|\\| **Optimization** \\|\\| [Save &\n",
        "Load Model](https://github.com/cheffjiu/pytorch-tutorials-zh/blob/main/saveloadrun_tutorial.ipynb)\n",
        "\n",
        "Optimizing Model Parameters(优化模型参数)\n",
        "===========================\n",
        "\n",
        "既然我们已经有了模型和数据，那么就该通过在数据上优化模型参数来对模型进行训练、验证和测试了。训练模型是一个迭代的过程；在每次迭代中，模型会对输出进行预测，计算预测中的误差（*损失*），收集误差相对于其参数的导数（正如我们在 [上一节](autograd_tutorial.html) 中看到的），然后使用梯度下降法 **优化（optimizes）** 这些参数。想要更详细地了解这个过程，可以查看 [3Blue1Brown 关于反向传播的这个视频](https://www.youtube.com/watch?v=tIeHLnjs5U8)。\n",
        "\n",
        "Prerequisite Code\n",
        "-----------------\n",
        "\n",
        "我们加载前几节中关于[数据集与数据加载器](data_tutorial.html)以及[构建模型](buildmodel_tutorial.html)的代码。"
      ]
    },
    {
      "cell_type": "code",
      "execution_count": null,
      "metadata": {
        "id": "EYANuObg50l0"
      },
      "outputs": [],
      "source": [
        "import torch\n",
        "from torch import nn\n",
        "from torch.utils.data import DataLoader\n",
        "from torchvision import datasets\n",
        "from torchvision.transforms import ToTensor\n",
        "\n",
        "training_data = datasets.FashionMNIST(\n",
        "    root=\"data\",\n",
        "    train=True,\n",
        "    download=True,\n",
        "    transform=ToTensor()\n",
        ")\n",
        "\n",
        "test_data = datasets.FashionMNIST(\n",
        "    root=\"data\",\n",
        "    train=False,\n",
        "    download=True,\n",
        "    transform=ToTensor()\n",
        ")\n",
        "\n",
        "train_dataloader = DataLoader(training_data, batch_size=64)\n",
        "test_dataloader = DataLoader(test_data, batch_size=64)\n",
        "\n",
        "class NeuralNetwork(nn.Module):\n",
        "    def __init__(self):\n",
        "        super().__init__()\n",
        "        self.flatten = nn.Flatten()\n",
        "        self.linear_relu_stack = nn.Sequential(\n",
        "            nn.Linear(28*28, 512),\n",
        "            nn.ReLU(),\n",
        "            nn.Linear(512, 512),\n",
        "            nn.ReLU(),\n",
        "            nn.Linear(512, 10),\n",
        "        )\n",
        "\n",
        "    def forward(self, x):\n",
        "        x = self.flatten(x)\n",
        "        logits = self.linear_relu_stack(x)\n",
        "        return logits\n",
        "\n",
        "model = NeuralNetwork()"
      ]
    },
    {
      "cell_type": "markdown",
      "metadata": {
        "id": "Q9Etl7Av50l0"
      },
      "source": [
        "Hyperparameters(超参数)\n",
        "===============\n",
        "\n",
        "超参数是可调节的参数，可让您控制模型优化过程。不同的超参数值会影响模型训练和收敛速度（[详细了解](https://pytorch.org/tutorials/beginner/hyperparameter_tuning_tutorial.html)超参数调优）\n",
        "\n",
        "我们为训练定义了以下超参数：\n",
        "\n",
        "   -   **Number of Epochs** - 对数据集进行迭代的次数\n",
        "   -   **Batch Size** - 在参数更新之前通过网络传播的数据样本数量\n",
        "   -   **Learning Rate** -每次批次/轮次中模型参数更新的幅度。值越小，学习速度越慢；而值越大，在训练过程中可能会导致不可预测的情况。"
      ]
    },
    {
      "cell_type": "code",
      "execution_count": null,
      "metadata": {
        "id": "mY5Aetyu50l0"
      },
      "outputs": [],
      "source": [
        "learning_rate = 1e-3\n",
        "batch_size = 64\n",
        "epochs = 5"
      ]
    },
    {
      "cell_type": "markdown",
      "metadata": {
        "id": "aIeLDMjO50l1"
      },
      "source": [
        "Optimization Loop（优化循环）\n",
        "=================\n",
        "\n",
        "一旦我们设置好超参数，就可以通过优化循环来训练和优化模型。优化循环的每次迭代都被称为一个**epoch**.\n",
        "\n",
        "每个时期都由两个主要部分组成：\n",
        "\n",
        "  -   **The Train Loop** - 遍历训练数据集，并尝试收敛到最优参数。\n",
        "  -   **The Validation/Test Loop** - 遍历测试数据集，检查模型性能是否在提升。\n",
        "\n",
        "让我们简要熟悉一下训练循环中使用的一些概念。直接跳到优化循环的 `full-impl-label` 查看。\n",
        "\n",
        "Loss Function（损失函数）\n",
        "-------------\n",
        "\n",
        "当提供一些训练数据时，我们未经训练的网络很可能无法给出正确答案。**损失函数（Loss function）**衡量所获得结果与目标值的差异程度，而我们在训练过程中希望最小化的正是损失函数。为了计算损失，我们使用给定数据样本的输入进行预测，并将其与真实数据标签值进行比较。\n",
        "\n",
        "常见的损失函数包括\n",
        "[nn.MSELoss](https://pytorch.org/docs/stable/generated/torch.nn.MSELoss.html#torch.nn.MSELoss)\n",
        "(Mean Square Error) 用于回归任务, 和\n",
        "[nn.NLLLoss](https://pytorch.org/docs/stable/generated/torch.nn.NLLLoss.html#torch.nn.NLLLoss)\n",
        "(Negative Log Likelihood) 用于分类.\n",
        "[nn.CrossEntropyLoss](https://pytorch.org/docs/stable/generated/torch.nn.CrossEntropyLoss.html#torch.nn.CrossEntropyLoss)\n",
        "结合了`nn.LogSoftmax`和`nn.NLLLoss`。\n",
        "\n",
        "我们将模型的输出logits传递给`nn.CrossEntropyLoss`，它将对logits\n",
        "进行归一化并计算预测误差。\n"
      ]
    },
    {
      "cell_type": "code",
      "execution_count": null,
      "metadata": {
        "id": "Bcc135u150l1"
      },
      "outputs": [],
      "source": [
        "# Initialize the loss function\n",
        "loss_fn = nn.CrossEntropyLoss()"
      ]
    },
    {
      "cell_type": "markdown",
      "metadata": {
        "id": "YrTeshZ350l1"
      },
      "source": [
        "Optimizer(优化器)\n",
        "=========\n",
        "\n",
        "优化是在每个训练步骤中调整模型参数以减少模型误差的过程。 **优化算法（Optimization algorithms）** 定义\n",
        "此过程是如何执行的（在此示例中，我们使用随机梯度下降法）。所有优化逻辑都封装在 `optimizer` 对象中。在这里，我们使用随机梯度下降（SGD）优化器；此外，PyTorch 中有许多[不同的优化器](https://pytorch.org/docs/stable/optim.html)，如 ADAM 和 RMSProp，它们对不同类型的模型和数据效果更好。\n",
        "\n",
        "我们通过注册需要训练的模型参数并传入学习率超参数来初始化优化器。"
      ]
    },
    {
      "cell_type": "code",
      "execution_count": null,
      "metadata": {
        "id": "FYbNW5Vg50l1"
      },
      "outputs": [],
      "source": [
        "optimizer = torch.optim.SGD(model.parameters(), lr=learning_rate)"
      ]
    },
    {
      "cell_type": "markdown",
      "metadata": {
        "id": "z-KtwKg450l1"
      },
      "source": [
        "在训练循环中，优化过程分为三个步骤：\n",
        "  -   调用`optimizer.zero_grad()`重置模型参数的梯度。默认情况下，梯度会累加；为避免重复计算，我们在每次迭代时显式地将梯度清零。\n",
        "  -   通过调用`loss.backward()`反向传播预测损失。PyTorch 会计算损失相对于每个参数的梯度。\n",
        "  -   一旦我们得到了梯度，就调用`optimizer.step()`，根据反向传播中收集的梯度来调整参数。"
      ]
    },
    {
      "cell_type": "markdown",
      "metadata": {
        "id": "5uh4TdJ450l1"
      },
      "source": [
        "Full Implementation {full-impl-label}（完整实现）\n",
        "===================\n",
        "\n",
        "我们定义`train_loop`，它循环执行优化代码，还定义`test_loop`，用于根据测试数据评估模型的性能。\n"
      ]
    },
    {
      "cell_type": "code",
      "execution_count": null,
      "metadata": {
        "id": "9tebx_rh50l1"
      },
      "outputs": [],
      "source": [
        "def train_loop(dataloader, model, loss_fn, optimizer):\n",
        "    size = len(dataloader.dataset)\n",
        "    # Set the model to training mode - important for batch normalization and dropout layers\n",
        "    # Unnecessary in this situation but added for best practices\n",
        "    model.train()\n",
        "    for batch, (X, y) in enumerate(dataloader):\n",
        "        # Compute prediction and loss\n",
        "        pred = model(X)\n",
        "        loss = loss_fn(pred, y)\n",
        "\n",
        "        # Backpropagation\n",
        "        loss.backward()\n",
        "        optimizer.step()\n",
        "        optimizer.zero_grad()\n",
        "\n",
        "        if batch % 100 == 0:\n",
        "            loss, current = loss.item(), batch * batch_size + len(X)\n",
        "            print(f\"loss: {loss:>7f}  [{current:>5d}/{size:>5d}]\")\n",
        "\n",
        "\n",
        "def test_loop(dataloader, model, loss_fn):\n",
        "    # Set the model to evaluation mode - important for batch normalization and dropout layers\n",
        "    # Unnecessary in this situation but added for best practices\n",
        "    model.eval()\n",
        "    size = len(dataloader.dataset)\n",
        "    num_batches = len(dataloader)\n",
        "    test_loss, correct = 0, 0\n",
        "\n",
        "    # Evaluating the model with torch.no_grad() ensures that no gradients are computed during test mode\n",
        "    # also serves to reduce unnecessary gradient computations and memory usage for tensors with requires_grad=True\n",
        "    with torch.no_grad():\n",
        "        for X, y in dataloader:\n",
        "            pred = model(X)\n",
        "            test_loss += loss_fn(pred, y).item()\n",
        "            correct += (pred.argmax(1) == y).type(torch.float).sum().item()\n",
        "\n",
        "    test_loss /= num_batches\n",
        "    correct /= size\n",
        "    print(f\"Test Error: \\n Accuracy: {(100*correct):>0.1f}%, Avg loss: {test_loss:>8f} \\n\")"
      ]
    },
    {
      "cell_type": "markdown",
      "metadata": {
        "id": "f8izFIyj50l2"
      },
      "source": [
        "我们初始化损失函数和优化器，并将其传递给`train_loop`和`test_loop`。你可以随意增加训练轮数，以跟踪模型不断提升的性能。\n"
      ]
    },
    {
      "cell_type": "code",
      "execution_count": null,
      "metadata": {
        "id": "ZkZxSJeN50l2"
      },
      "outputs": [],
      "source": [
        "loss_fn = nn.CrossEntropyLoss()\n",
        "optimizer = torch.optim.SGD(model.parameters(), lr=learning_rate)\n",
        "\n",
        "epochs = 10\n",
        "for t in range(epochs):\n",
        "    print(f\"Epoch {t+1}\\n-------------------------------\")\n",
        "    train_loop(train_dataloader, model, loss_fn, optimizer)\n",
        "    test_loop(test_dataloader, model, loss_fn)\n",
        "print(\"Done!\")"
      ]
    },
    {
      "cell_type": "markdown",
      "metadata": {
        "id": "17eFO4y550l2"
      },
      "source": [
        "Further Reading\n",
        "===============\n",
        "\n",
        "-   [Loss\n",
        "    Functions](https://pytorch.org/docs/stable/nn.html#loss-functions)\n",
        "-   [torch.optim](https://pytorch.org/docs/stable/optim.html)\n",
        "-   [Warmstart Training a\n",
        "    Model](https://pytorch.org/tutorials/recipes/recipes/warmstarting_model_using_parameters_from_a_different_model.html)\n"
      ]
    }
  ],
  "metadata": {
    "kernelspec": {
      "display_name": "Python 3",
      "language": "python",
      "name": "python3"
    },
    "language_info": {
      "codemirror_mode": {
        "name": "ipython",
        "version": 3
      },
      "file_extension": ".py",
      "mimetype": "text/x-python",
      "name": "python",
      "nbconvert_exporter": "python",
      "pygments_lexer": "ipython3",
      "version": "3.10.12"
    },
    "colab": {
      "provenance": [],
      "include_colab_link": true
    }
  },
  "nbformat": 4,
  "nbformat_minor": 0
}