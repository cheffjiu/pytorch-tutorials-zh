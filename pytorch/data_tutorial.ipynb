{
  "cells": [
    {
      "cell_type": "markdown",
      "metadata": {
        "id": "view-in-github",
        "colab_type": "text"
      },
      "source": [
        "<a href=\"https://colab.research.google.com/github/cheffjiu/pytorch-tutorials-zh/blob/main/data_tutorial.ipynb\" target=\"_parent\"><img src=\"https://colab.research.google.com/assets/colab-badge.svg\" alt=\"Open In Colab\"/></a>"
      ]
    },
    {
      "cell_type": "code",
      "execution_count": null,
      "metadata": {
        "id": "doM6OPq8bNF4"
      },
      "outputs": [],
      "source": [
        "# For tips on running notebooks in Google Colab, see\n",
        "# https://pytorch.org/tutorials/beginner/colab\n",
        "%matplotlib inline"
      ]
    },
    {
      "cell_type": "markdown",
      "metadata": {
        "id": "pk3y0LuSbNF7"
      },
      "source": [
        "[Learn the Basics](https://github.com/cheffjiu/pytorch-tutorials-zh/blob/main/intro.ipynb) \\|\\|\n",
        "[Quickstart](https://github.com/cheffjiu/pytorch-tutorials-zh/blob/main/quickstart_tutorial.ipynb) \\|\\|\n",
        "[Tensors](https://github.com/cheffjiu/pytorch-tutorials-zh/blob/main/tensorqs_tutorial.ipynb) \\|\\| **Datasets & DataLoaders** \\|\\|\n",
        "[Transforms](https://github.com/cheffjiu/pytorch-tutorials-zh/blob/main/transforms_tutorial.ipynb) \\|\\| [Build\n",
        "Model](https://github.com/cheffjiu/pytorch-tutorials-zh/blob/main/buildmodel_tutorial.ipynb) \\|\\|\n",
        "[Autograd](https://github.com/cheffjiu/pytorch-tutorials-zh/blob/main/autogradqs_tutorial.ipynb) \\|\\|\n",
        "[Optimization](https://github.com/cheffjiu/pytorch-tutorials-zh/blob/main/optimization_tutorial.ipynb) \\|\\| [Save & Load\n",
        "Model](https://github.com/cheffjiu/pytorch-tutorials-zh/blob/main/saveloadrun_tutorial.ipynb)\n",
        "\n",
        "Datasets & DataLoaders\n",
        "======================\n"
      ]
    },
    {
      "cell_type": "markdown",
      "metadata": {
        "id": "ougwDWXBbNF8"
      },
      "source": [
        "处理数据样本的代码可能会变得杂乱无章且难以维护；理想情况下，为了更好的可读性和模块化，我们希望数据集代码与模型训练代码解耦。PyTorch 提供了两个数据原语：`torch.utils.data.DataLoader` 和 `torch.utils.data.Dataset`，它们允许你使用预加载的数据集以及你自己的数据。`Dataset` 存储样本及其相应的标签，而 `DataLoader` 则把`Dataset` 包装一个可迭代对象，以便轻松访问样本。\n",
        "PyTorch领域库提供了许多预加载的数据集（如FashionMNIST），这些数据集继承自`torch.utils.data.Dataset`类，并实现了特定于特定数据的函数。它们可用于为你的模型制作原型并进行基准测试。你可以在这里找到它们。: [Image\n",
        "Datasets](https://pytorch.org/vision/stable/datasets.html), [Text\n",
        "Datasets](https://pytorch.org/text/stable/datasets.html), and [Audio\n",
        "Datasets](https://pytorch.org/audio/stable/datasets.html)\n"
      ]
    },
    {
      "cell_type": "markdown",
      "metadata": {
        "id": "5i446cofbNF9"
      },
      "source": [
        "Loading a Dataset（加载数据集）\n",
        "=================\n",
        "\n",
        "以下是一个如何从TorchVision加载[Fashion-MNIST](https://research.zalando.com/project/fashion_mnist/fashion_mnist/) ，Fashion-MNIST是Zalando公司的一个商品图片数据集，由60000个训练样本和10000个测试样本组成。每个样本包含一张28×28的灰度图像以及一个来自10个类别之一的关联标签。\n",
        "\n",
        "我们使用以下参数加载[FashionMNIST数据集](https://pytorch.org/vision/stable/datasets.html#fashion-mnist):\n",
        "\n",
        "   -   `root` 是存储训练/测试数据的路径,   \n",
        "   -   `train` 指定训练或测试数据集，  \n",
        "   -   `download=True` 如果数据在`root`路径下不可用，则从互联网下载数据。    \n",
        "   -   `transform` and `target_transform` 指定特征和标签变换\n"
      ]
    },
    {
      "cell_type": "code",
      "execution_count": null,
      "metadata": {
        "id": "w-XMGx8hbNF9"
      },
      "outputs": [],
      "source": [
        "import torch\n",
        "from torch.utils.data import Dataset\n",
        "from torchvision import datasets\n",
        "from torchvision.transforms import ToTensor\n",
        "import matplotlib.pyplot as plt\n",
        "\n",
        "\n",
        "training_data = datasets.FashionMNIST(\n",
        "    root=\"data\",\n",
        "    train=True,\n",
        "    download=True,\n",
        "    transform=ToTensor()\n",
        ")\n",
        "\n",
        "test_data = datasets.FashionMNIST(\n",
        "    root=\"data\",\n",
        "    train=False,\n",
        "    download=True,\n",
        "    transform=ToTensor()\n",
        ")"
      ]
    },
    {
      "cell_type": "markdown",
      "metadata": {
        "id": "El2NqS5cbNF-"
      },
      "source": [
        "Iterating and Visualizing the Dataset（迭代和可视化数据集）\n",
        "=====================================\n",
        "\n",
        "我们可以像操作列表一样手动对`Datasets`进行索引：`training_data[index]`。我们使用`matplotlib`来可视化训练数据中的一些样本。.\n"
      ]
    },
    {
      "cell_type": "code",
      "execution_count": null,
      "metadata": {
        "id": "kyx9pTJrbNF-"
      },
      "outputs": [],
      "source": [
        "labels_map = {\n",
        "    0: \"T-Shirt\",\n",
        "    1: \"Trouser\",\n",
        "    2: \"Pullover\",\n",
        "    3: \"Dress\",\n",
        "    4: \"Coat\",\n",
        "    5: \"Sandal\",\n",
        "    6: \"Shirt\",\n",
        "    7: \"Sneaker\",\n",
        "    8: \"Bag\",\n",
        "    9: \"Ankle Boot\",\n",
        "}\n",
        "figure = plt.figure(figsize=(8, 8))\n",
        "cols, rows = 3, 3\n",
        "for i in range(1, cols * rows + 1):\n",
        "    sample_idx = torch.randint(len(training_data), size=(1,)).item()\n",
        "    img, label = training_data[sample_idx]\n",
        "    figure.add_subplot(rows, cols, i)\n",
        "    plt.title(labels_map[label])\n",
        "    plt.axis(\"off\")\n",
        "    plt.imshow(img.squeeze(), cmap=\"gray\")\n",
        "plt.show()"
      ]
    },
    {
      "cell_type": "markdown",
      "metadata": {
        "id": "_eVruamDbNF_"
      },
      "source": [
        "------------------------------------------------------------------------\n"
      ]
    },
    {
      "cell_type": "markdown",
      "metadata": {
        "id": "mFDwrEPUbNF_"
      },
      "source": [
        "Creating a Custom Dataset for your files（为你的文件创建自定义数据集）\n",
        "========================================\n",
        "\n",
        "自定义数据集类必须实现三个函数:\n",
        "`__init__`, `__len__`, 和`__getitem__`. 看看这个实现：FashionMNIST图像存储在目录`img_dir`中，它们的标签则单独存储在CSV文件`annotations_file`中。.\n",
        "\n",
        "在接下来的章节中，我们将详细分析这些函数中每一个的运行情况。\n"
      ]
    },
    {
      "cell_type": "code",
      "execution_count": null,
      "metadata": {
        "id": "aGMhh8QgbNGA"
      },
      "outputs": [],
      "source": [
        "import os\n",
        "import pandas as pd\n",
        "from torchvision.io import read_image\n",
        "\n",
        "class CustomImageDataset(Dataset):\n",
        "    def __init__(self, annotations_file, img_dir, transform=None, target_transform=None):\n",
        "        self.img_labels = pd.read_csv(annotations_file)\n",
        "        self.img_dir = img_dir\n",
        "        self.transform = transform\n",
        "        self.target_transform = target_transform\n",
        "\n",
        "    def __len__(self):\n",
        "        return len(self.img_labels)\n",
        "\n",
        "    def __getitem__(self, idx):\n",
        "        img_path = os.path.join(self.img_dir, self.img_labels.iloc[idx, 0])#iloc 是 pandas 库中 DataFrame 对象的一个属性，用于通过整数位置（从 0 开始的索引）来选取行和列\n",
        "        image = read_image(img_path)\n",
        "        label = self.img_labels.iloc[idx, 1]\n",
        "        if self.transform:\n",
        "            image = self.transform(image)\n",
        "        if self.target_transform:\n",
        "            label = self.target_transform(label)\n",
        "        return image, label"
      ]
    },
    {
      "cell_type": "markdown",
      "metadata": {
        "id": "M0qK6wwzbNGA"
      },
      "source": [
        "`__init__`\n",
        "==========\n",
        "\n",
        "在实例化`Dataset`对象时，`__init__`函数会运行一次。我们会初始化包含图像的目录、注释文件以及两种变换（下一节将详细介绍）。 .\n",
        "\n",
        "The labels.csv file looks like: :\n",
        "\n",
        "    tshirt1.jpg, 0\n",
        "    tshirt2.jpg, 0\n",
        "    ......\n",
        "    ankleboot999.jpg, 9\n"
      ]
    },
    {
      "cell_type": "code",
      "execution_count": null,
      "metadata": {
        "id": "TeTB_1XIbNGA"
      },
      "outputs": [],
      "source": [
        "def __init__(self, annotations_file, img_dir, transform=None, target_transform=None):\n",
        "    self.img_labels = pd.read_csv(annotations_file)\n",
        "    self.img_dir = img_dir\n",
        "    self.transform = transform\n",
        "    self.target_transform = target_transform"
      ]
    },
    {
      "cell_type": "markdown",
      "metadata": {
        "id": "tw8dTDgdbNGA"
      },
      "source": [
        "`__len__`\n",
        "=========\n",
        "\n",
        "`__len__` 函数返回我们数据集中样本的数量.\n",
        "\n",
        "Example:\n"
      ]
    },
    {
      "cell_type": "code",
      "execution_count": null,
      "metadata": {
        "id": "EFDKCuf4bNGA"
      },
      "outputs": [],
      "source": [
        "def __len__(self):\n",
        "    return len(self.img_labels)"
      ]
    },
    {
      "cell_type": "markdown",
      "metadata": {
        "id": "1McQqBr8bNGA"
      },
      "source": [
        "`__getitem__`\n",
        "=============\n",
        "\n",
        "`__getitem__`函数根据给定的索引 `idx` 从数据集中加载并返回一个样本。它依据索引确定图像在磁盘上的位置，使用 `read_image` 将其转换为张量，从 `self.img_labels` 中的 csv 数据里获取相应的标签，对它们调用转换函数（如果适用），然后以元组形式返回张量图像和相应的标签。"
      ]
    },
    {
      "cell_type": "code",
      "execution_count": null,
      "metadata": {
        "id": "wL-P7aF4bNGA"
      },
      "outputs": [],
      "source": [
        "def __getitem__(self, idx):\n",
        "    img_path = os.path.join(self.img_dir, self.img_labels.iloc[idx, 0])#iloc 是 pandas 库中 DataFrame 对象的一个属性，用于通过整数位置（从 0 开始的索引）来选取行和列\n",
        "    image = read_image(img_path)\n",
        "    label = self.img_labels.iloc[idx, 1]\n",
        "    if self.transform:\n",
        "        image = self.transform(image)\n",
        "    if self.target_transform:\n",
        "        label = self.target_transform(label)\n",
        "    return image, label"
      ]
    },
    {
      "cell_type": "markdown",
      "metadata": {
        "id": "9LywGDApbNGB"
      },
      "source": [
        "------------------------------------------------------------------------\n"
      ]
    },
    {
      "cell_type": "markdown",
      "metadata": {
        "id": "kJtw76SfbNGB"
      },
      "source": [
        "Preparing your data for training with DataLoaders(使用数据加载器为训练准备数据)\n",
        "=================================================\n",
        "\n",
        "`Dataset` 一次获取我们数据集中一个样本的特征和标签。在训练模型时，我们通常希望以 “小批量” 方式传递样本，在每个时期重新打乱数据以减少模型过拟合，并使用 Python 的 `multiprocessing` 来加速数据获取。\n",
        "\n",
        "`DataLoader` 是一个可迭代对象，它通过简单的API为我们抽象了这种复杂性。.\n"
      ]
    },
    {
      "cell_type": "code",
      "execution_count": null,
      "metadata": {
        "id": "DlWJ-tfCbNGB"
      },
      "outputs": [],
      "source": [
        "from torch.utils.data import DataLoader\n",
        "\n",
        "train_dataloader = DataLoader(training_data, batch_size=64, shuffle=True)\n",
        "test_dataloader = DataLoader(test_data, batch_size=64, shuffle=True)"
      ]
    },
    {
      "cell_type": "markdown",
      "metadata": {
        "id": "vElBUbGVbNGB"
      },
      "source": [
        "Iterate through the DataLoader(遍历数据加载器)\n",
        "==============================\n",
        "\n",
        "我们已经将该数据集加载到`DataLoader`中，并可以根据需要遍历该数据集。下面的每次迭代都会返回一批`train_features`和`train_labels`（分别包含`batch_size=64`个特征和标签）。由于我们指定了`shuffle=True`，在遍历完所有批次后，数据会被打乱（如需对数据加载顺序进行更精细的控制，请查看\n",
        "[Samplers](https://pytorch.org/docs/stable/data.html#data-loading-order-and-sampler)).\n"
      ]
    },
    {
      "cell_type": "code",
      "execution_count": null,
      "metadata": {
        "id": "OVcjrDycbNGB"
      },
      "outputs": [],
      "source": [
        "# Display image and label.\n",
        "train_features, train_labels = next(iter(train_dataloader))\n",
        "print(f\"Feature batch shape: {train_features.size()}\")\n",
        "print(f\"Labels batch shape: {train_labels.size()}\")\n",
        "img = train_features[0].squeeze()\n",
        "label = train_labels[0]\n",
        "plt.imshow(img, cmap=\"gray\")\n",
        "plt.show()\n",
        "print(f\"Label: {label}\")"
      ]
    },
    {
      "cell_type": "markdown",
      "metadata": {
        "id": "fyFiDxi6bNGB"
      },
      "source": [
        "------------------------------------------------------------------------\n"
      ]
    },
    {
      "cell_type": "markdown",
      "metadata": {
        "id": "ifo_y_WRbNGB"
      },
      "source": [
        "Further Reading\n",
        "===============\n",
        "\n",
        "-   [torch.utils.data API](https://pytorch.org/docs/stable/data.html)\n"
      ]
    }
  ],
  "metadata": {
    "kernelspec": {
      "display_name": "Python 3",
      "language": "python",
      "name": "python3"
    },
    "language_info": {
      "codemirror_mode": {
        "name": "ipython",
        "version": 3
      },
      "file_extension": ".py",
      "mimetype": "text/x-python",
      "name": "python",
      "nbconvert_exporter": "python",
      "pygments_lexer": "ipython3",
      "version": "3.10.12"
    },
    "colab": {
      "provenance": [],
      "include_colab_link": true
    }
  },
  "nbformat": 4,
  "nbformat_minor": 0
}